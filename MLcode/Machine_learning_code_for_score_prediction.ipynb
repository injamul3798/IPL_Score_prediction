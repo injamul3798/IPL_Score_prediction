{
  "cells": [
    {
      "cell_type": "markdown",
      "source": [
        "## Import necessary library & dataset"
      ],
      "metadata": {
        "id": "yeDWZKw9A-by"
      }
    },
    {
      "cell_type": "code",
      "execution_count": null,
      "metadata": {
        "colab": {
          "base_uri": "https://localhost:8080/",
          "height": 417
        },
        "id": "OE0hAdYXrnud",
        "outputId": "a0cc3e96-ddf5-4804-f2c6-450356b84289"
      },
      "outputs": [
        {
          "output_type": "execute_result",
          "data": {
            "text/plain": [
              "   mid       date                  venue               bat_team  \\\n",
              "0    1  4/18/2008  M Chinnaswamy Stadium  Kolkata Knight Riders   \n",
              "1    1  4/18/2008  M Chinnaswamy Stadium  Kolkata Knight Riders   \n",
              "2    1  4/18/2008  M Chinnaswamy Stadium  Kolkata Knight Riders   \n",
              "3    1  4/18/2008  M Chinnaswamy Stadium  Kolkata Knight Riders   \n",
              "4    1  4/18/2008  M Chinnaswamy Stadium  Kolkata Knight Riders   \n",
              "\n",
              "                     bowl_team      batsman   bowler  runs  wickets  overs  \\\n",
              "0  Royal Challengers Bangalore   SC Ganguly  P Kumar     1        0    0.1   \n",
              "1  Royal Challengers Bangalore  BB McCullum  P Kumar     1        0    0.2   \n",
              "2  Royal Challengers Bangalore  BB McCullum  P Kumar     2        0    0.2   \n",
              "3  Royal Challengers Bangalore  BB McCullum  P Kumar     2        0    0.3   \n",
              "4  Royal Challengers Bangalore  BB McCullum  P Kumar     2        0    0.4   \n",
              "\n",
              "   runs_last_5  wickets_last_5  striker  non-striker  total  \n",
              "0            1               0        0            0    222  \n",
              "1            1               0        0            0    222  \n",
              "2            2               0        0            0    222  \n",
              "3            2               0        0            0    222  \n",
              "4            2               0        0            0    222  "
            ],
            "text/html": [
              "\n",
              "  <div id=\"df-211aecdc-d953-4f98-bdee-89e0d314e04c\" class=\"colab-df-container\">\n",
              "    <div>\n",
              "<style scoped>\n",
              "    .dataframe tbody tr th:only-of-type {\n",
              "        vertical-align: middle;\n",
              "    }\n",
              "\n",
              "    .dataframe tbody tr th {\n",
              "        vertical-align: top;\n",
              "    }\n",
              "\n",
              "    .dataframe thead th {\n",
              "        text-align: right;\n",
              "    }\n",
              "</style>\n",
              "<table border=\"1\" class=\"dataframe\">\n",
              "  <thead>\n",
              "    <tr style=\"text-align: right;\">\n",
              "      <th></th>\n",
              "      <th>mid</th>\n",
              "      <th>date</th>\n",
              "      <th>venue</th>\n",
              "      <th>bat_team</th>\n",
              "      <th>bowl_team</th>\n",
              "      <th>batsman</th>\n",
              "      <th>bowler</th>\n",
              "      <th>runs</th>\n",
              "      <th>wickets</th>\n",
              "      <th>overs</th>\n",
              "      <th>runs_last_5</th>\n",
              "      <th>wickets_last_5</th>\n",
              "      <th>striker</th>\n",
              "      <th>non-striker</th>\n",
              "      <th>total</th>\n",
              "    </tr>\n",
              "  </thead>\n",
              "  <tbody>\n",
              "    <tr>\n",
              "      <th>0</th>\n",
              "      <td>1</td>\n",
              "      <td>4/18/2008</td>\n",
              "      <td>M Chinnaswamy Stadium</td>\n",
              "      <td>Kolkata Knight Riders</td>\n",
              "      <td>Royal Challengers Bangalore</td>\n",
              "      <td>SC Ganguly</td>\n",
              "      <td>P Kumar</td>\n",
              "      <td>1</td>\n",
              "      <td>0</td>\n",
              "      <td>0.1</td>\n",
              "      <td>1</td>\n",
              "      <td>0</td>\n",
              "      <td>0</td>\n",
              "      <td>0</td>\n",
              "      <td>222</td>\n",
              "    </tr>\n",
              "    <tr>\n",
              "      <th>1</th>\n",
              "      <td>1</td>\n",
              "      <td>4/18/2008</td>\n",
              "      <td>M Chinnaswamy Stadium</td>\n",
              "      <td>Kolkata Knight Riders</td>\n",
              "      <td>Royal Challengers Bangalore</td>\n",
              "      <td>BB McCullum</td>\n",
              "      <td>P Kumar</td>\n",
              "      <td>1</td>\n",
              "      <td>0</td>\n",
              "      <td>0.2</td>\n",
              "      <td>1</td>\n",
              "      <td>0</td>\n",
              "      <td>0</td>\n",
              "      <td>0</td>\n",
              "      <td>222</td>\n",
              "    </tr>\n",
              "    <tr>\n",
              "      <th>2</th>\n",
              "      <td>1</td>\n",
              "      <td>4/18/2008</td>\n",
              "      <td>M Chinnaswamy Stadium</td>\n",
              "      <td>Kolkata Knight Riders</td>\n",
              "      <td>Royal Challengers Bangalore</td>\n",
              "      <td>BB McCullum</td>\n",
              "      <td>P Kumar</td>\n",
              "      <td>2</td>\n",
              "      <td>0</td>\n",
              "      <td>0.2</td>\n",
              "      <td>2</td>\n",
              "      <td>0</td>\n",
              "      <td>0</td>\n",
              "      <td>0</td>\n",
              "      <td>222</td>\n",
              "    </tr>\n",
              "    <tr>\n",
              "      <th>3</th>\n",
              "      <td>1</td>\n",
              "      <td>4/18/2008</td>\n",
              "      <td>M Chinnaswamy Stadium</td>\n",
              "      <td>Kolkata Knight Riders</td>\n",
              "      <td>Royal Challengers Bangalore</td>\n",
              "      <td>BB McCullum</td>\n",
              "      <td>P Kumar</td>\n",
              "      <td>2</td>\n",
              "      <td>0</td>\n",
              "      <td>0.3</td>\n",
              "      <td>2</td>\n",
              "      <td>0</td>\n",
              "      <td>0</td>\n",
              "      <td>0</td>\n",
              "      <td>222</td>\n",
              "    </tr>\n",
              "    <tr>\n",
              "      <th>4</th>\n",
              "      <td>1</td>\n",
              "      <td>4/18/2008</td>\n",
              "      <td>M Chinnaswamy Stadium</td>\n",
              "      <td>Kolkata Knight Riders</td>\n",
              "      <td>Royal Challengers Bangalore</td>\n",
              "      <td>BB McCullum</td>\n",
              "      <td>P Kumar</td>\n",
              "      <td>2</td>\n",
              "      <td>0</td>\n",
              "      <td>0.4</td>\n",
              "      <td>2</td>\n",
              "      <td>0</td>\n",
              "      <td>0</td>\n",
              "      <td>0</td>\n",
              "      <td>222</td>\n",
              "    </tr>\n",
              "  </tbody>\n",
              "</table>\n",
              "</div>\n",
              "    <div class=\"colab-df-buttons\">\n",
              "\n",
              "  <div class=\"colab-df-container\">\n",
              "    <button class=\"colab-df-convert\" onclick=\"convertToInteractive('df-211aecdc-d953-4f98-bdee-89e0d314e04c')\"\n",
              "            title=\"Convert this dataframe to an interactive table.\"\n",
              "            style=\"display:none;\">\n",
              "\n",
              "  <svg xmlns=\"http://www.w3.org/2000/svg\" height=\"24px\" viewBox=\"0 -960 960 960\">\n",
              "    <path d=\"M120-120v-720h720v720H120Zm60-500h600v-160H180v160Zm220 220h160v-160H400v160Zm0 220h160v-160H400v160ZM180-400h160v-160H180v160Zm440 0h160v-160H620v160ZM180-180h160v-160H180v160Zm440 0h160v-160H620v160Z\"/>\n",
              "  </svg>\n",
              "    </button>\n",
              "\n",
              "  <style>\n",
              "    .colab-df-container {\n",
              "      display:flex;\n",
              "      gap: 12px;\n",
              "    }\n",
              "\n",
              "    .colab-df-convert {\n",
              "      background-color: #E8F0FE;\n",
              "      border: none;\n",
              "      border-radius: 50%;\n",
              "      cursor: pointer;\n",
              "      display: none;\n",
              "      fill: #1967D2;\n",
              "      height: 32px;\n",
              "      padding: 0 0 0 0;\n",
              "      width: 32px;\n",
              "    }\n",
              "\n",
              "    .colab-df-convert:hover {\n",
              "      background-color: #E2EBFA;\n",
              "      box-shadow: 0px 1px 2px rgba(60, 64, 67, 0.3), 0px 1px 3px 1px rgba(60, 64, 67, 0.15);\n",
              "      fill: #174EA6;\n",
              "    }\n",
              "\n",
              "    .colab-df-buttons div {\n",
              "      margin-bottom: 4px;\n",
              "    }\n",
              "\n",
              "    [theme=dark] .colab-df-convert {\n",
              "      background-color: #3B4455;\n",
              "      fill: #D2E3FC;\n",
              "    }\n",
              "\n",
              "    [theme=dark] .colab-df-convert:hover {\n",
              "      background-color: #434B5C;\n",
              "      box-shadow: 0px 1px 3px 1px rgba(0, 0, 0, 0.15);\n",
              "      filter: drop-shadow(0px 1px 2px rgba(0, 0, 0, 0.3));\n",
              "      fill: #FFFFFF;\n",
              "    }\n",
              "  </style>\n",
              "\n",
              "    <script>\n",
              "      const buttonEl =\n",
              "        document.querySelector('#df-211aecdc-d953-4f98-bdee-89e0d314e04c button.colab-df-convert');\n",
              "      buttonEl.style.display =\n",
              "        google.colab.kernel.accessAllowed ? 'block' : 'none';\n",
              "\n",
              "      async function convertToInteractive(key) {\n",
              "        const element = document.querySelector('#df-211aecdc-d953-4f98-bdee-89e0d314e04c');\n",
              "        const dataTable =\n",
              "          await google.colab.kernel.invokeFunction('convertToInteractive',\n",
              "                                                    [key], {});\n",
              "        if (!dataTable) return;\n",
              "\n",
              "        const docLinkHtml = 'Like what you see? Visit the ' +\n",
              "          '<a target=\"_blank\" href=https://colab.research.google.com/notebooks/data_table.ipynb>data table notebook</a>'\n",
              "          + ' to learn more about interactive tables.';\n",
              "        element.innerHTML = '';\n",
              "        dataTable['output_type'] = 'display_data';\n",
              "        await google.colab.output.renderOutput(dataTable, element);\n",
              "        const docLink = document.createElement('div');\n",
              "        docLink.innerHTML = docLinkHtml;\n",
              "        element.appendChild(docLink);\n",
              "      }\n",
              "    </script>\n",
              "  </div>\n",
              "\n",
              "\n",
              "<div id=\"df-18b24f0e-419c-49a0-92bd-789e807852d8\">\n",
              "  <button class=\"colab-df-quickchart\" onclick=\"quickchart('df-18b24f0e-419c-49a0-92bd-789e807852d8')\"\n",
              "            title=\"Suggest charts\"\n",
              "            style=\"display:none;\">\n",
              "\n",
              "<svg xmlns=\"http://www.w3.org/2000/svg\" height=\"24px\"viewBox=\"0 0 24 24\"\n",
              "     width=\"24px\">\n",
              "    <g>\n",
              "        <path d=\"M19 3H5c-1.1 0-2 .9-2 2v14c0 1.1.9 2 2 2h14c1.1 0 2-.9 2-2V5c0-1.1-.9-2-2-2zM9 17H7v-7h2v7zm4 0h-2V7h2v10zm4 0h-2v-4h2v4z\"/>\n",
              "    </g>\n",
              "</svg>\n",
              "  </button>\n",
              "\n",
              "<style>\n",
              "  .colab-df-quickchart {\n",
              "      --bg-color: #E8F0FE;\n",
              "      --fill-color: #1967D2;\n",
              "      --hover-bg-color: #E2EBFA;\n",
              "      --hover-fill-color: #174EA6;\n",
              "      --disabled-fill-color: #AAA;\n",
              "      --disabled-bg-color: #DDD;\n",
              "  }\n",
              "\n",
              "  [theme=dark] .colab-df-quickchart {\n",
              "      --bg-color: #3B4455;\n",
              "      --fill-color: #D2E3FC;\n",
              "      --hover-bg-color: #434B5C;\n",
              "      --hover-fill-color: #FFFFFF;\n",
              "      --disabled-bg-color: #3B4455;\n",
              "      --disabled-fill-color: #666;\n",
              "  }\n",
              "\n",
              "  .colab-df-quickchart {\n",
              "    background-color: var(--bg-color);\n",
              "    border: none;\n",
              "    border-radius: 50%;\n",
              "    cursor: pointer;\n",
              "    display: none;\n",
              "    fill: var(--fill-color);\n",
              "    height: 32px;\n",
              "    padding: 0;\n",
              "    width: 32px;\n",
              "  }\n",
              "\n",
              "  .colab-df-quickchart:hover {\n",
              "    background-color: var(--hover-bg-color);\n",
              "    box-shadow: 0 1px 2px rgba(60, 64, 67, 0.3), 0 1px 3px 1px rgba(60, 64, 67, 0.15);\n",
              "    fill: var(--button-hover-fill-color);\n",
              "  }\n",
              "\n",
              "  .colab-df-quickchart-complete:disabled,\n",
              "  .colab-df-quickchart-complete:disabled:hover {\n",
              "    background-color: var(--disabled-bg-color);\n",
              "    fill: var(--disabled-fill-color);\n",
              "    box-shadow: none;\n",
              "  }\n",
              "\n",
              "  .colab-df-spinner {\n",
              "    border: 2px solid var(--fill-color);\n",
              "    border-color: transparent;\n",
              "    border-bottom-color: var(--fill-color);\n",
              "    animation:\n",
              "      spin 1s steps(1) infinite;\n",
              "  }\n",
              "\n",
              "  @keyframes spin {\n",
              "    0% {\n",
              "      border-color: transparent;\n",
              "      border-bottom-color: var(--fill-color);\n",
              "      border-left-color: var(--fill-color);\n",
              "    }\n",
              "    20% {\n",
              "      border-color: transparent;\n",
              "      border-left-color: var(--fill-color);\n",
              "      border-top-color: var(--fill-color);\n",
              "    }\n",
              "    30% {\n",
              "      border-color: transparent;\n",
              "      border-left-color: var(--fill-color);\n",
              "      border-top-color: var(--fill-color);\n",
              "      border-right-color: var(--fill-color);\n",
              "    }\n",
              "    40% {\n",
              "      border-color: transparent;\n",
              "      border-right-color: var(--fill-color);\n",
              "      border-top-color: var(--fill-color);\n",
              "    }\n",
              "    60% {\n",
              "      border-color: transparent;\n",
              "      border-right-color: var(--fill-color);\n",
              "    }\n",
              "    80% {\n",
              "      border-color: transparent;\n",
              "      border-right-color: var(--fill-color);\n",
              "      border-bottom-color: var(--fill-color);\n",
              "    }\n",
              "    90% {\n",
              "      border-color: transparent;\n",
              "      border-bottom-color: var(--fill-color);\n",
              "    }\n",
              "  }\n",
              "</style>\n",
              "\n",
              "  <script>\n",
              "    async function quickchart(key) {\n",
              "      const quickchartButtonEl =\n",
              "        document.querySelector('#' + key + ' button');\n",
              "      quickchartButtonEl.disabled = true;  // To prevent multiple clicks.\n",
              "      quickchartButtonEl.classList.add('colab-df-spinner');\n",
              "      try {\n",
              "        const charts = await google.colab.kernel.invokeFunction(\n",
              "            'suggestCharts', [key], {});\n",
              "      } catch (error) {\n",
              "        console.error('Error during call to suggestCharts:', error);\n",
              "      }\n",
              "      quickchartButtonEl.classList.remove('colab-df-spinner');\n",
              "      quickchartButtonEl.classList.add('colab-df-quickchart-complete');\n",
              "    }\n",
              "    (() => {\n",
              "      let quickchartButtonEl =\n",
              "        document.querySelector('#df-18b24f0e-419c-49a0-92bd-789e807852d8 button');\n",
              "      quickchartButtonEl.style.display =\n",
              "        google.colab.kernel.accessAllowed ? 'block' : 'none';\n",
              "    })();\n",
              "  </script>\n",
              "</div>\n",
              "    </div>\n",
              "  </div>\n"
            ],
            "application/vnd.google.colaboratory.intrinsic+json": {
              "type": "dataframe",
              "variable_name": "ipl",
              "repr_error": "'str' object has no attribute 'empty'"
            }
          },
          "metadata": {},
          "execution_count": 1
        }
      ],
      "source": [
        "import pandas as pd\n",
        "import numpy as np\n",
        "import matplotlib.pyplot as plt\n",
        "import seaborn as sns\n",
        "from sklearn import preprocessing\n",
        "import keras\n",
        "import tensorflow as tf\n",
        "ipl = pd.read_csv('/content/drive/MyDrive/ML Eng/ipl_data.csv')\n",
        "ipl.head()\n"
      ]
    },
    {
      "cell_type": "markdown",
      "source": [
        "## Drop several columns which is not import for this task"
      ],
      "metadata": {
        "id": "2GDazJ0oBFe3"
      }
    },
    {
      "cell_type": "code",
      "execution_count": null,
      "metadata": {
        "id": "fKzWqn-YrwIs"
      },
      "outputs": [],
      "source": [
        "#Dropping certain features\n",
        "df = ipl.drop(['date', 'runs', 'wickets', 'overs', 'runs_last_5', 'wickets_last_5','mid', 'striker', 'non-striker'], axis =1)\n"
      ]
    },
    {
      "cell_type": "code",
      "execution_count": null,
      "metadata": {
        "colab": {
          "background_save": true,
          "base_uri": "https://localhost:8080/",
          "height": 122
        },
        "id": "8GFUcnFUwP9V",
        "outputId": "64b280b9-87b8-45e4-879d-c6a761a0af9f"
      },
      "outputs": [
        {
          "data": {
            "application/vnd.google.colaboratory.intrinsic+json": {
              "type": "string"
            },
            "text/plain": [
              "'# Find unique values after label encoding\\nunique_venues = venue_encoder.inverse_transform(X[\\'venue\\'].unique())\\nunique_bat_teams = batting_team_encoder.inverse_transform(X[\\'bat_team\\'].unique())\\nunique_bowl_teams = bowling_team_encoder.inverse_transform(X[\\'bowl_team\\'].unique())\\nunique_strikers = striker_encoder.inverse_transform(X[\\'batsman\\'].unique())\\nunique_bowlers = bowler_encoder.inverse_transform(X[\\'bowler\\'].unique())\\n\\nprint(\"Unique Venues:\", unique_venues)\\nprint(\"Unique Batting Teams:\", unique_bat_teams)\\nprint(\"Unique Bowling Teams:\", unique_bowl_teams)\\nprint(\"Unique Strikers:\", unique_strikers)\\nprint(\"Unique Bowlers:\", unique_bowlers)'"
            ]
          },
          "execution_count": 3,
          "metadata": {},
          "output_type": "execute_result"
        }
      ],
      "source": [
        "'''# Find unique values after label encoding\n",
        "unique_venues = venue_encoder.inverse_transform(X['venue'].unique())\n",
        "unique_bat_teams = batting_team_encoder.inverse_transform(X['bat_team'].unique())\n",
        "unique_bowl_teams = bowling_team_encoder.inverse_transform(X['bowl_team'].unique())\n",
        "unique_strikers = striker_encoder.inverse_transform(X['batsman'].unique())\n",
        "unique_bowlers = bowler_encoder.inverse_transform(X['bowler'].unique())\n",
        "\n",
        "print(\"Unique Venues:\", unique_venues)\n",
        "print(\"Unique Batting Teams:\", unique_bat_teams)\n",
        "print(\"Unique Bowling Teams:\", unique_bowl_teams)\n",
        "print(\"Unique Strikers:\", unique_strikers)\n",
        "print(\"Unique Bowlers:\", unique_bowlers)'''\n"
      ]
    },
    {
      "cell_type": "markdown",
      "source": [
        "### Spilit data"
      ],
      "metadata": {
        "id": "7vjtsZRyBPbm"
      }
    },
    {
      "cell_type": "code",
      "execution_count": null,
      "metadata": {
        "id": "dd6iAahQrxQq"
      },
      "outputs": [],
      "source": [
        "X = df.drop(['total'], axis =1)\n",
        "y = df['total']\n"
      ]
    },
    {
      "cell_type": "markdown",
      "source": [
        "Label Encdoing for getting categorcial value"
      ],
      "metadata": {
        "id": "KSsV-wNDBU41"
      }
    },
    {
      "cell_type": "code",
      "execution_count": null,
      "metadata": {
        "id": "Stzac4VKr7NA"
      },
      "outputs": [],
      "source": [
        "#Label Encoding\n",
        "\n",
        "from sklearn.preprocessing import LabelEncoder\n",
        "\n",
        "# Create a LabelEncoder object for each categorical feature\n",
        "venue_encoder = LabelEncoder()\n",
        "batting_team_encoder = LabelEncoder()\n",
        "bowling_team_encoder = LabelEncoder()\n",
        "striker_encoder = LabelEncoder()\n",
        "bowler_encoder = LabelEncoder()\n",
        "\n",
        "# Fit and transform the categorical features with label encoding\n",
        "X['venue'] = venue_encoder.fit_transform(X['venue'])\n",
        "X['bat_team'] = batting_team_encoder.fit_transform(X['bat_team'])\n",
        "X['bowl_team'] = bowling_team_encoder.fit_transform(X['bowl_team'])\n",
        "X['batsman'] = striker_encoder.fit_transform(X['batsman'])\n",
        "X['bowler'] = bowler_encoder.fit_transform(X['bowler'])\n"
      ]
    },
    {
      "cell_type": "markdown",
      "source": [
        "#### Chcek unique value for below features"
      ],
      "metadata": {
        "id": "ATnWQ82uBapP"
      }
    },
    {
      "cell_type": "code",
      "execution_count": null,
      "metadata": {
        "colab": {
          "base_uri": "https://localhost:8080/"
        },
        "id": "joVd-_K2fWri",
        "outputId": "6ea274d9-671e-4674-90ca-494c0a9fe78f"
      },
      "outputs": [
        {
          "output_type": "stream",
          "name": "stdout",
          "text": [
            "Unique Venues: ['M Chinnaswamy Stadium' 'Punjab Cricket Association Stadium, Mohali'\n",
            " 'Feroz Shah Kotla' 'Wankhede Stadium' 'Eden Gardens'\n",
            " 'Sawai Mansingh Stadium' 'Rajiv Gandhi International Stadium, Uppal'\n",
            " 'MA Chidambaram Stadium, Chepauk' 'Dr DY Patil Sports Academy' 'Newlands'\n",
            " \"St George's Park\" 'Kingsmead' 'SuperSport Park' 'Buffalo Park'\n",
            " 'New Wanderers Stadium' 'De Beers Diamond Oval' 'OUTsurance Oval'\n",
            " 'Brabourne Stadium' 'Sardar Patel Stadium, Motera' 'Barabati Stadium'\n",
            " 'Vidarbha Cricket Association Stadium, Jamtha'\n",
            " 'Himachal Pradesh Cricket Association Stadium' 'Nehru Stadium'\n",
            " 'Holkar Cricket Stadium'\n",
            " 'Dr. Y.S. Rajasekhara Reddy ACA-VDCA Cricket Stadium'\n",
            " 'Subrata Roy Sahara Stadium'\n",
            " 'Shaheed Veer Narayan Singh International Stadium'\n",
            " 'JSCA International Stadium Complex' 'Sheikh Zayed Stadium'\n",
            " 'Sharjah Cricket Stadium' 'Dubai International Cricket Stadium'\n",
            " 'Maharashtra Cricket Association Stadium'\n",
            " 'Punjab Cricket Association IS Bindra Stadium, Mohali'\n",
            " 'Saurashtra Cricket Association Stadium' 'Green Park']\n",
            "Unique Batting Teams: ['Kolkata Knight Riders' 'Chennai Super Kings' 'Rajasthan Royals'\n",
            " 'Mumbai Indians' 'Deccan Chargers' 'Kings XI Punjab'\n",
            " 'Royal Challengers Bangalore' 'Delhi Daredevils' 'Kochi Tuskers Kerala'\n",
            " 'Pune Warriors' 'Sunrisers Hyderabad' 'Rising Pune Supergiants'\n",
            " 'Gujarat Lions' 'Rising Pune Supergiant']\n",
            "Unique Bowling Teams: ['Royal Challengers Bangalore' 'Kings XI Punjab' 'Delhi Daredevils'\n",
            " 'Kolkata Knight Riders' 'Rajasthan Royals' 'Mumbai Indians'\n",
            " 'Chennai Super Kings' 'Deccan Chargers' 'Pune Warriors'\n",
            " 'Kochi Tuskers Kerala' 'Sunrisers Hyderabad' 'Rising Pune Supergiants'\n",
            " 'Gujarat Lions' 'Rising Pune Supergiant']\n",
            "Unique Strikers: ['SC Ganguly' 'BB McCullum' 'RT Ponting' 'DJ Hussey' 'Mohammad Hafeez'\n",
            " 'PA Patel' 'ML Hayden' 'MEK Hussey' 'MS Dhoni' 'SK Raina' 'JDP Oram'\n",
            " 'S Badrinath' 'T Kohli' 'YK Pathan' 'SR Watson' 'M Kaif' 'DS Lehmann'\n",
            " 'RA Jadeja' 'M Rawat' 'D Salunkhe' 'SK Warne' 'SK Trivedi' 'L Ronchi'\n",
            " 'ST Jayasuriya' 'DJ Thornely' 'RV Uthappa' 'PR Shah' 'AM Nayar'\n",
            " 'SM Pollock' 'Harbhajan Singh' 'AC Gilchrist' 'Y Venugopal Rao'\n",
            " 'VVS Laxman' 'A Symonds' 'RG Sharma' 'SB Styris' 'AS Yadav' 'SB Bangar'\n",
            " 'WPUJC Vaas' 'RP Singh' 'K Goel' 'JR Hopes' 'KC Sangakkara'\n",
            " 'DPMD Jayawardene' 'Yuvraj Singh' 'IK Pathan' 'S Sohal' 'B Lee'\n",
            " 'PP Chawla' 'WA Mota' 'Shahid Afridi' 'RR Sarwan' 'S Sreesanth'\n",
            " 'VRV Singh' 'S Chanderpaul' 'R Dravid' 'LRPL Taylor' 'JH Kallis'\n",
            " 'V Kohli' 'MV Boucher' 'P Kumar' 'SB Joshi' 'Z Khan' 'R Vinay Kumar'\n",
            " 'WP Saha' 'LR Shukla' 'AB Agarkar' 'M Kartik' 'I Sharma' 'AM Rahane'\n",
            " 'DJ Bravo' 'MA Khote' 'G Gambhir' 'V Sehwag' 'S Dhawan' 'Shoaib Malik'\n",
            " 'MK Tiwary' 'KD Karthik' 'R Bhatia' 'MF Maharoof' 'VY Mahesh' 'DB Das'\n",
            " 'HH Gibbs' 'DNT Zoysa' 'D Kalyankrishna' 'GC Smith' 'SA Asnodkar'\n",
            " 'Sohail Tanvir' 'SP Fleming' 'S Vidyut' 'JA Morkel' 'LPC Silva'\n",
            " 'DB Ravi Teja' 'SE Marsh' 'YV Takawale' 'SS Tiwary' 'RR Raje'\n",
            " 'Joginder Sharma' 'MS Gony' 'M Muralitharan' 'M Ntini' 'W Jaffer'\n",
            " 'CL White' 'Misbah-ul-Haq' 'DT Patil' 'A Kumble' 'DW Steyn' 'S Anirudha'\n",
            " 'MM Patel' 'AB de Villiers' 'A Chopra' 'BJ Hodge' 'T Taibu' 'Umar Gul'\n",
            " 'PP Ojha' 'SP Goswami' 'B Akhil' 'Salman Butt' 'TM Dilshan' 'A Mishra'\n",
            " 'J Arunkumar' 'Iqbal Abdulla' 'CK Kapugedera' 'LA Pomersbach'\n",
            " 'Shoaib Akhtar' 'AB Dinda' 'SR Tendulkar' 'B Chipli' 'DR Smith'\n",
            " 'SD Chitnis' 'Kamran Akmal' 'TM Srivastava' 'MK Pandey' 'RR Powar'\n",
            " 'JP Duminy' 'JD Ryder' 'KP Pietersen' 'CH Gayle' 'MC Henriques'\n",
            " 'A Flintoff' 'FH Edwards' 'PC Valthaty' 'RJ Quiney' 'AD Mascarenhas'\n",
            " 'AS Raut' 'Pankaj Singh' 'RS Bopara' 'DL Vettori' 'M Manhas' 'PJ Sangwan'\n",
            " 'MN van Wyk' 'AA Bilakhia' 'TL Suman' 'Shoaib Ahmed' 'GR Napier'\n",
            " 'R Bishnoi' 'RE van der Merwe' 'KP Appanna' 'M Vijay' 'SB Jakati'\n",
            " 'L Balaji' 'NV Ojha' 'LA Carseldine' 'RJ Harris' 'D du Preez'\n",
            " 'DS Kulkarni' 'SM Harwood' 'Yashpal Singh' 'AN Ghosh' 'AD Mathews'\n",
            " 'SM Katich' 'DA Warner' 'J Botha' 'A Nehra' 'Mashrafe Mortaza'\n",
            " 'GJ Bailey' 'AB McDonald' 'Y Nagar' 'Niraj Patel' 'T Henderson' 'A Singh'\n",
            " 'R Ashwin' 'T Thushara' 'Mohammad Ashraful' 'CA Pujara' 'OA Shah'\n",
            " 'AP Tare' 'AT Rayudu' 'R Sathish' 'R McLaren' 'MS Bisla' 'YA Abdulla'\n",
            " 'EJG Morgan' 'AA Jhunjhunwala' 'P Dogra' 'A Uniyal' 'KA Pollard'\n",
            " 'MJ Lumb' 'DR Martyn' 'S Narwal' 'M Morkel' 'Anirudh Singh'\n",
            " 'Jaskaran Singh' 'FY Fazal' 'AC Voges' 'MD Mishra' 'J Theron' 'R Sharma'\n",
            " 'Mandeep Singh' 'KM Jadhav' 'SW Tait' 'PD Collingwood' 'VS Malik'\n",
            " 'SJ Srivastava' 'AP Dole' 'Bipul Sharma' 'DE Bollinger' 'BAW Mendis'\n",
            " 'B Sumanth' 'C Madan' 'AG Paunikar' 'AJ Finch' 'MR Marsh' 'STR Binny'\n",
            " 'IR Jaggi' 'DT Christian' 'RV Gomez' 'UBT Chand' 'UT Yadav' 'Sunny Singh'\n",
            " 'NJ Rimmington' 'MA Agarwal' 'AUK Pathan' 'AL Menaria' 'DJ Jacobs'\n",
            " 'WD Parnell' 'TD Paine' 'SB Wagh' 'AC Thomas' 'BJ Haddin' 'NLTC Perera'\n",
            " 'MS Wade' 'JE Taylor' 'RN ten Doeschate' 'SL Malinga' 'AG Murtaza'\n",
            " 'TR Birt' 'Harpreet Singh' 'NL McCullum' 'DH Yagnik' 'AC Blizzard'\n",
            " 'M Klinger' 'I Malhotra' 'A Mithun' 'P Parameswaran' 'AA Chavan'\n",
            " 'ND Doshi' 'CJ Ferguson' 'B Kumar' 'S Rana' 'JEC Franklin'\n",
            " 'Shakib Al Hasan' 'F du Plessis' 'SPD Smith' 'MN Samuels' 'KK Cooper'\n",
            " 'HV Patel' 'Ankit Sharma' 'RE Levi' 'RR Bhatkal' 'Harmeet Singh'\n",
            " 'BA Bhatt' 'CJ McKay' 'DJ Harris' 'N Saini' 'DA Miller' 'Azhar Mahmood'\n",
            " 'A Ashish Reddy' 'V Pratap Singh' 'BB Samantray' 'RJ Peterson' 'S Nadeem'\n",
            " 'VR Aaron' 'MJ Clarke' 'AP Majumdar' 'Gurkeerat Singh' 'P Awana'\n",
            " 'SP Narine' 'A Chandila' 'PA Reddy' 'MC Juneja' 'AD Russell' 'KK Nair'\n",
            " 'KB Arun Karthik' 'GH Vihari' 'MDKJ Perera' 'R Shukla' 'JD Unadkat'\n",
            " 'M Vohra' 'JP Faulkner' 'R Rampaul' 'BJ Rohrer' 'Q de Kock' 'KV Sharma'\n",
            " 'SMSM Senanayake' 'LJ Wright' 'X Thalaivan Sargunam' 'DJG Sammy'\n",
            " 'MG Johnson' 'A Mukund' 'SV Samson' 'BMAJ Mendis' 'KL Rahul' 'CM Gautam'\n",
            " 'KW Richardson' 'Parvez Rasool' 'GJ Maxwell' 'R Dhawan' 'SA Yadav'\n",
            " 'CJ Anderson' 'JJ Bumrah' 'CA Lynn' 'MA Starc' 'AR Patel'\n",
            " 'Sandeep Sharma' 'BR Dunk' 'Shivam Sharma' 'LMP Simmons' 'VH Zol'\n",
            " 'BCJ Cutting' 'Mohammed Shami' 'BE Hendricks' 'S Gopal' 'M de Lange'\n",
            " 'RR Rossouw' 'JO Holder' 'JDS Neesham' 'Imran Tahir' 'MM Sharma'\n",
            " 'DJ Hooda' 'CH Morris' 'SS Iyer' 'SA Abbott' 'AN Ahmed' 'YS Chahal'\n",
            " 'J Suchith' 'P Negi' 'RG More' 'Anureet Singh' 'HH Pandya'\n",
            " 'NM Coulter-Nile' 'PV Tambe' 'MJ McClenaghan' 'DJ Muthuswami' 'SN Thakur'\n",
            " 'SN Khan' 'D Wiese' 'S Aravind' 'JC Buttler' 'CR Brathwaite' 'MP Stoinis'\n",
            " 'C Munro' 'P Sahu' 'KH Pandya' 'TG Southee' 'MJ Guptill' 'KJ Abbott'\n",
            " 'TM Head' 'AD Nath' 'NS Naik' 'Ishan Kishan' 'SW Billings' 'RR Pant'\n",
            " 'KS Williamson' 'KC Cariappa' 'PSP Handscomb' 'Sachin Baby' 'J Yadav'\n",
            " 'UT Khawaja' 'HM Amla' 'BB Sran' 'N Rana' 'F Behardien' 'ER Dwivedi'\n",
            " 'JJ Roy' 'BA Stokes' 'Vishnu Vinod' 'TS Mills' 'Basil Thampi' 'CR Woakes'\n",
            " 'V Shankar' 'Rashid Khan' 'RA Tripathi' 'RD Chahar' 'LH Ferguson'\n",
            " 'C de Grandhomme' 'PJ Cummins' 'Mohammad Nabi' 'Kuldeep Yadav'\n",
            " 'Washington Sundar' 'S Badree' 'A Choudhary' 'AR Bawne' 'AJ Tye'\n",
            " 'Ankit Soni' 'K Rabada' 'AF Milne' 'SP Jackson' 'Swapnil Singh'\n",
            " 'R Tewatia' 'AS Rajpoot']\n",
            "Unique Bowlers: ['P Kumar' 'Z Khan' 'AA Noffke' 'JH Kallis' 'SB Joshi' 'CL White' 'B Lee'\n",
            " 'S Sreesanth' 'JR Hopes' 'IK Pathan' 'K Goel' 'PP Chawla' 'WA Mota'\n",
            " 'GD McGrath' 'B Geeves' 'MF Maharoof' 'R Bhatia' 'DL Vettori'\n",
            " 'R Vinay Kumar' 'B Akhil' 'AB Dinda' 'I Sharma' 'AB Agarkar' 'M Kartik'\n",
            " 'Mohammad Hafeez' 'DJ Hussey' 'MM Patel' 'SR Watson' 'SK Trivedi'\n",
            " 'SK Warne' 'D Salunkhe' 'Pankaj Singh' 'YK Pathan' 'Mohammad Asif'\n",
            " 'VY Mahesh' 'SM Pollock' 'A Nehra' 'DS Kulkarni' 'Harbhajan Singh'\n",
            " 'DJ Bravo' 'VS Yeligati' 'AM Nayar' 'MA Khote' 'Sohail Tanvir' 'JDP Oram'\n",
            " 'MS Gony' 'P Amarnath' 'M Muralitharan' 'Joginder Sharma' 'RP Singh'\n",
            " 'DNT Zoysa' 'SB Bangar' 'Shahid Afridi' 'PP Ojha' 'D Kalyankrishna'\n",
            " 'VRV Singh' 'Yuvraj Singh' 'DW Steyn' 'CRD Fernando' 'ST Jayasuriya'\n",
            " 'V Kohli' 'Gagandeep Singh' 'Umar Gul' 'SC Ganguly' 'LR Shukla'\n",
            " 'PJ Sangwan' 'Shoaib Malik' 'V Sehwag' 'A Kumble' 'DP Vijaykumar'\n",
            " 'SB Styris' 'RR Raje' 'JA Morkel' 'L Balaji' 'CK Kapugedera' 'DR Smith'\n",
            " 'WPUJC Vaas' 'Y Venugopal Rao' 'AD Mascarenhas' 'A Mishra' 'DJ Thornely'\n",
            " 'PM Sarvesh Kumar' 'Abdur Razzak' 'TM Dilshan' 'SD Chitnis' 'M Ntini'\n",
            " 'RR Powar' 'SK Raina' 'BAW Mendis' 'T Thushara' 'A Flintoff'\n",
            " 'Kamran Khan' 'T Henderson' 'FH Edwards' 'Harmeet Singh' 'KP Pietersen'\n",
            " 'LRPL Taylor' 'JD Ryder' 'Anureet Singh' 'CH Gayle' 'RR Bose'\n",
            " 'YA Abdulla' 'RS Bopara' 'SL Malinga' 'DP Nannes' 'RG Sharma'\n",
            " 'Shoaib Ahmed' 'BJ Hodge' 'RA Jadeja' 'RE van der Merwe' 'KP Appanna'\n",
            " 'JP Duminy' 'SR Tendulkar' 'VS Malik' 'SM Harwood' 'AS Raut' 'D du Preez'\n",
            " 'RJ Harris' 'TL Suman' 'A Singh' 'M Morkel' 'LA Carseldine' 'S Tyagi'\n",
            " 'SB Jakati' 'A Mithun' 'AM Rahane' 'A Symonds' 'C Nanda' 'J Botha'\n",
            " 'CK Langeveldt' 'SS Sarkar' 'AM Salvi' 'Jaskaran Singh' 'SW Tait'\n",
            " 'A Uniyal' 'AA Jhunjhunwala' 'AD Mathews' 'RS Gavaskar' 'R Ashwin'\n",
            " 'JM Kemp' 'S Ladda' 'SE Bond' 'SJ Srivastava' 'Bipul Sharma' 'Y Nagar'\n",
            " 'UT Yadav' 'MC Henriques' 'R McLaren' 'J Theron' 'S Narwal' 'AC Voges'\n",
            " 'KAJ Roach' 'KA Pollard' 'C Ganapathy' 'SB Wagh' 'R Sharma' 'AN Ahmed'\n",
            " 'R Sathish' 'AP Dole' 'FY Fazal' 'PD Collingwood' 'MR Marsh' 'L Ablish'\n",
            " 'S Sriram' 'AB McDonald' 'DE Bollinger' 'JD Unadkat' 'MK Tiwary'\n",
            " 'ND Doshi' 'Iqbal Abdulla' 'AL Menaria' 'STR Binny' 'AUK Pathan'\n",
            " 'AG Murtaza' 'JEC Franklin' 'AC Thomas' 'WD Parnell' 'M Manhas'\n",
            " 'DT Christian' 'DB Ravi Teja' 'BA Bhatt' 'JJ van der Wath' 'S Aravind'\n",
            " 'R Ninan' 'Shakib Al Hasan' 'NLTC Perera' 'RV Gomez' 'PC Valthaty'\n",
            " 'S Nadeem' 'S Randiv' 'J Syed Mohammad' 'NL McCullum' 'JE Taylor'\n",
            " 'KMDN Kulasekara' 'TG Southee' 'P Parameswaran' 'S Dhawan' 'B Kumar'\n",
            " 'AA Kazi' 'VR Aaron' 'P Prasanth' 'Y Gnaneswara Rao' 'AA Chavan'\n",
            " 'RW Price' 'GJ Maxwell' 'JP Faulkner' 'DAJ Bracewell' 'Ankit Sharma'\n",
            " 'DJ Harris' 'TP Sudhindra' 'SP Narine' 'HV Patel' 'KK Cooper' 'GB Hogg'\n",
            " 'P Awana' 'MN Samuels' 'AD Russell' 'Azhar Mahmood' 'A Chandila' 'P Negi'\n",
            " 'RJ Peterson' 'CJ McKay' 'R Shukla' 'MJ Clarke' 'V Pratap Singh'\n",
            " 'A Ashish Reddy' 'BW Hilfenhaus' 'K Upadhyay' 'Sunny Gupta' 'MG Johnson'\n",
            " 'JJ Bumrah' 'AS Rajpoot' 'B Laughlin' 'GH Vihari' 'Mohammed Shami'\n",
            " 'BMAJ Mendis' 'CH Morris' 'Anand Rajan' 'AJ Finch' 'MM Sharma'\n",
            " 'KV Sharma' 'SMSM Senanayake' 'R Rampaul' 'R Dhawan' 'JO Holder'\n",
            " 'IC Pandey' 'LJ Wright' 'S Kaul' 'YS Chahal' 'KW Richardson' 'DJG Sammy'\n",
            " 'Sandeep Sharma' 'PV Tambe' 'Parvez Rasool' 'RN ten Doeschate' 'MG Neser'\n",
            " 'NM Coulter-Nile' 'CJ Anderson' 'MA Starc' 'AR Patel' 'JDS Neesham'\n",
            " 'M Vijay' 'SA Yadav' 'S Badree' 'R Tewatia' 'V Shankar' 'Imran Tahir'\n",
            " 'Shivam Sharma' 'S Rana' 'BE Hendricks' 'PJ Cummins' 'K Santokie'\n",
            " 'S Gopal' 'Karanveer Singh' 'DJ Muthuswami' 'TA Boult' 'SA Abbott'\n",
            " 'DJ Hooda' 'P Suyal' 'J Suchith' 'D Wiese' 'MJ McClenaghan' 'HH Pandya'\n",
            " 'RG More' 'GS Sandhu' 'M de Lange' 'J Yadav' 'Gurkeerat Singh' 'M Ashwin'\n",
            " 'JW Hastings' 'C Munro' 'Mustafizur Rahman' 'CR Brathwaite' 'KJ Abbott'\n",
            " 'P Sahu' 'BB Sran' 'KH Pandya' 'S Kaushik' 'T Shamsi' 'MP Stoinis'\n",
            " 'Swapnil Singh' 'SM Boland' 'CJ Jordan' 'KC Cariappa' 'A Zampa'\n",
            " 'BCJ Cutting' 'DL Chahar' 'KS Williamson' 'Kuldeep Yadav' 'TS Mills'\n",
            " 'A Choudhary' 'TM Head' 'BA Stokes' 'CR Woakes' 'T Natarajan'\n",
            " 'Rashid Khan' 'C de Grandhomme' 'Basil Thampi' 'AJ Tye' 'AF Milne'\n",
            " 'K Rabada' 'Washington Sundar' 'SN Thakur' 'SS Agarwal' 'NB Singh'\n",
            " 'Ankit Soni' 'Mohammad Nabi' 'Mohammed Siraj' 'LH Ferguson']\n"
          ]
        }
      ],
      "source": [
        "# Find unique values after label encoding\n",
        "unique_venues = venue_encoder.inverse_transform(X['venue'].unique())\n",
        "unique_bat_teams = batting_team_encoder.inverse_transform(X['bat_team'].unique())\n",
        "unique_bowl_teams = bowling_team_encoder.inverse_transform(X['bowl_team'].unique())\n",
        "unique_strikers = striker_encoder.inverse_transform(X['batsman'].unique())\n",
        "unique_bowlers = bowler_encoder.inverse_transform(X['bowler'].unique())\n",
        "\n",
        "print(\"Unique Venues:\", unique_venues)\n",
        "print(\"Unique Batting Teams:\", unique_bat_teams)\n",
        "print(\"Unique Bowling Teams:\", unique_bowl_teams)\n",
        "print(\"Unique Strikers:\", unique_strikers)\n",
        "print(\"Unique Bowlers:\", unique_bowlers)"
      ]
    },
    {
      "cell_type": "markdown",
      "source": [
        "### Train ,test & evalution the model."
      ],
      "metadata": {
        "id": "NhEZ_VM-BhNE"
      }
    },
    {
      "cell_type": "code",
      "execution_count": null,
      "metadata": {
        "id": "R1vVsi9Ur9mn"
      },
      "outputs": [],
      "source": [
        "# Train test Split\n",
        "from sklearn.model_selection import train_test_split\n",
        "X_train, X_test, y_train, y_test = train_test_split(X, y, test_size=0.3, random_state=42)\n"
      ]
    },
    {
      "cell_type": "code",
      "execution_count": null,
      "metadata": {
        "id": "kCCjKS_vsAGM"
      },
      "outputs": [],
      "source": [
        "from sklearn.preprocessing import MinMaxScaler\n",
        "\n",
        "scaler = MinMaxScaler()\n",
        "\n",
        "# Fit the scaler on the training data and transform both training and testing data\n",
        "X_train_scaled = scaler.fit_transform(X_train)\n",
        "X_test_scaled = scaler.transform(X_test)\n"
      ]
    },
    {
      "cell_type": "markdown",
      "source": [
        "### Using three Machine Learning Model to find best model"
      ],
      "metadata": {
        "id": "Gq-zHNrcBydf"
      }
    },
    {
      "cell_type": "code",
      "source": [
        "from sklearn.linear_model import LinearRegression\n",
        "from sklearn.ensemble import RandomForestRegressor\n",
        "from sklearn.svm import SVR\n",
        "from sklearn.metrics import mean_squared_error, mean_absolute_error\n",
        "\n",
        "# Initialize models\n",
        "linear_reg = LinearRegression()\n",
        "random_forest = RandomForestRegressor(n_estimators=100, random_state=42)\n",
        "svr = SVR(kernel='linear')\n",
        "\n",
        "# Train models\n",
        "linear_reg.fit(X_train_scaled, y_train)\n",
        "random_forest.fit(X_train_scaled, y_train)\n",
        "svr.fit(X_train_scaled, y_train)\n",
        "\n",
        "# Predictions\n",
        "linear_reg_preds = linear_reg.predict(X_test_scaled)\n",
        "random_forest_preds = random_forest.predict(X_test_scaled)\n",
        "svr_preds = svr.predict(X_test_scaled)\n",
        "\n",
        "# Evaluation\n",
        "def evaluate_model(predictions, model_name):\n",
        "    mse = mean_squared_error(y_test, predictions)\n",
        "    mae = mean_absolute_error(y_test, predictions)\n",
        "    print(f\"{model_name} Mean Squared Error: {mse}\")\n",
        "    print(f\"{model_name} Mean Absolute Error: {mae}\")\n",
        "\n",
        "print(\"Linear Regression:\")\n",
        "evaluate_model(linear_reg_preds, \"Linear Regression\")\n",
        "\n",
        "print(\"\\nRandom Forest Regressor:\")\n",
        "evaluate_model(random_forest_preds, \"Random Forest Regressor\")\n",
        "\n",
        "print(\"\\nSupport Vector Regressor:\")\n",
        "evaluate_model(svr_preds, \"Support Vector Regressor\")\n"
      ],
      "metadata": {
        "colab": {
          "base_uri": "https://localhost:8080/"
        },
        "id": "upR_pND6T-Zj",
        "outputId": "a6764b69-f7a9-404d-c88e-558c1f95df18"
      },
      "execution_count": null,
      "outputs": [
        {
          "output_type": "stream",
          "name": "stdout",
          "text": [
            "Linear Regression:\n",
            "Linear Regression Mean Squared Error: 839.5646088837992\n",
            "Linear Regression Mean Absolute Error: 22.676220159224872\n",
            "\n",
            "Random Forest Regressor:\n",
            "Random Forest Regressor Mean Squared Error: 54.463928976415346\n",
            "Random Forest Regressor Mean Absolute Error: 2.138622819328675\n",
            "\n",
            "Support Vector Regressor:\n",
            "Support Vector Regressor Mean Squared Error: 841.5548960291932\n",
            "Support Vector Regressor Mean Absolute Error: 22.63328501179313\n"
          ]
        }
      ]
    },
    {
      "cell_type": "markdown",
      "source": [
        "### Random forest regressor giving best result,Thus we will use this model"
      ],
      "metadata": {
        "id": "xoiU5DRNB4Q0"
      }
    },
    {
      "cell_type": "code",
      "source": [
        "import pickle\n",
        "\n",
        "# Assuming random_forest is your best-performing model\n",
        "best_model = random_forest\n",
        "\n",
        "# Save the model to a file\n",
        "with open('random_forest_model.pkl', 'wb') as file:\n",
        "    pickle.dump(best_model, file)\n",
        "\n",
        "print(\"Model saved successfully.\")\n"
      ],
      "metadata": {
        "colab": {
          "base_uri": "https://localhost:8080/"
        },
        "id": "f4f5N2EUb9bh",
        "outputId": "499b1b0d-fe34-4329-c247-23610fd20170"
      },
      "execution_count": null,
      "outputs": [
        {
          "output_type": "stream",
          "name": "stdout",
          "text": [
            "Model saved successfully.\n"
          ]
        }
      ]
    },
    {
      "cell_type": "code",
      "source": [
        "import joblib\n",
        "joblib.dump(random_forest, 'bestmodel.pickel')"
      ],
      "metadata": {
        "id": "8RXAHHNnbdd6"
      },
      "execution_count": null,
      "outputs": []
    },
    {
      "cell_type": "markdown",
      "source": [
        "### Checking Deep learning Model .But for this task random regressor are giving good resutl"
      ],
      "metadata": {
        "id": "avdF1IGlCCFo"
      }
    },
    {
      "cell_type": "code",
      "execution_count": null,
      "metadata": {
        "colab": {
          "background_save": true
        },
        "id": "dYWfNQngsDGH"
      },
      "outputs": [],
      "source": [
        "# Define the neural network model\n",
        "model = keras.Sequential([\n",
        "\tkeras.layers.Input( shape=(X_train_scaled.shape[1],)), # Input layer\n",
        "\tkeras.layers.Dense(512, activation='relu'), # Hidden layer with 512 units and ReLU activation\n",
        "\tkeras.layers.Dense(216, activation='relu'), # Hidden layer with 216 units and ReLU activation\n",
        "\tkeras.layers.Dense(1, activation='linear') # Output layer with linear activation for regression\n",
        "])\n",
        "\n",
        "# Compile the model with Huber loss\n",
        "huber_loss = tf.keras.losses.Huber(delta=1.0) # You can adjust the 'delta' parameter as needed\n",
        "model.compile(optimizer='adam', loss=huber_loss) # Use Huber loss for regression\n"
      ]
    },
    {
      "cell_type": "code",
      "execution_count": null,
      "metadata": {
        "colab": {
          "base_uri": "https://localhost:8080/"
        },
        "id": "mA809yEhsHKG",
        "outputId": "772377fd-97fb-4589-d1a1-2cc67182986c"
      },
      "outputs": [
        {
          "name": "stdout",
          "output_type": "stream",
          "text": [
            "Epoch 1/50\n",
            "104/104 [==============================] - 3s 6ms/step - loss: 91.1929 - val_loss: 32.3626\n",
            "Epoch 2/50\n",
            "104/104 [==============================] - 0s 5ms/step - loss: 30.2582 - val_loss: 27.6655\n",
            "Epoch 3/50\n",
            "104/104 [==============================] - 0s 4ms/step - loss: 25.2764 - val_loss: 23.1161\n",
            "Epoch 4/50\n",
            "104/104 [==============================] - 0s 4ms/step - loss: 22.6029 - val_loss: 22.1265\n",
            "Epoch 5/50\n",
            "104/104 [==============================] - 0s 4ms/step - loss: 22.3199 - val_loss: 22.0837\n",
            "Epoch 6/50\n",
            "104/104 [==============================] - 0s 5ms/step - loss: 22.2949 - val_loss: 22.0725\n",
            "Epoch 7/50\n",
            "104/104 [==============================] - 0s 4ms/step - loss: 22.2657 - val_loss: 22.0301\n",
            "Epoch 8/50\n",
            "104/104 [==============================] - 1s 6ms/step - loss: 22.2443 - val_loss: 22.0158\n",
            "Epoch 9/50\n",
            "104/104 [==============================] - 1s 5ms/step - loss: 22.2428 - val_loss: 21.9912\n",
            "Epoch 10/50\n",
            "104/104 [==============================] - 1s 6ms/step - loss: 22.2057 - val_loss: 21.9757\n",
            "Epoch 11/50\n",
            "104/104 [==============================] - 1s 6ms/step - loss: 22.1633 - val_loss: 21.9641\n",
            "Epoch 12/50\n",
            "104/104 [==============================] - 1s 6ms/step - loss: 22.1390 - val_loss: 21.9252\n",
            "Epoch 13/50\n",
            "104/104 [==============================] - 1s 5ms/step - loss: 22.1384 - val_loss: 21.9189\n",
            "Epoch 14/50\n",
            "104/104 [==============================] - 0s 5ms/step - loss: 22.1087 - val_loss: 21.9057\n",
            "Epoch 15/50\n",
            "104/104 [==============================] - 0s 4ms/step - loss: 22.0944 - val_loss: 21.8835\n",
            "Epoch 16/50\n",
            "104/104 [==============================] - 0s 4ms/step - loss: 22.0904 - val_loss: 21.8916\n",
            "Epoch 17/50\n",
            "104/104 [==============================] - 0s 4ms/step - loss: 22.0843 - val_loss: 21.8581\n",
            "Epoch 18/50\n",
            "104/104 [==============================] - 0s 5ms/step - loss: 22.0714 - val_loss: 21.8534\n",
            "Epoch 19/50\n",
            "104/104 [==============================] - 0s 4ms/step - loss: 22.0547 - val_loss: 21.8556\n",
            "Epoch 20/50\n",
            "104/104 [==============================] - 0s 4ms/step - loss: 22.0500 - val_loss: 21.8386\n",
            "Epoch 21/50\n",
            "104/104 [==============================] - 0s 4ms/step - loss: 22.0227 - val_loss: 21.8508\n",
            "Epoch 22/50\n",
            "104/104 [==============================] - 0s 4ms/step - loss: 22.0370 - val_loss: 21.8454\n",
            "Epoch 23/50\n",
            "104/104 [==============================] - 0s 5ms/step - loss: 22.0160 - val_loss: 21.8077\n",
            "Epoch 24/50\n",
            "104/104 [==============================] - 0s 5ms/step - loss: 22.0068 - val_loss: 22.0225\n",
            "Epoch 25/50\n",
            "104/104 [==============================] - 0s 5ms/step - loss: 22.0450 - val_loss: 21.8227\n",
            "Epoch 26/50\n",
            "104/104 [==============================] - 0s 4ms/step - loss: 21.9988 - val_loss: 21.7791\n",
            "Epoch 27/50\n",
            "104/104 [==============================] - 0s 4ms/step - loss: 22.0185 - val_loss: 21.7839\n",
            "Epoch 28/50\n",
            "104/104 [==============================] - 0s 5ms/step - loss: 22.0151 - val_loss: 21.8193\n",
            "Epoch 29/50\n",
            "104/104 [==============================] - 0s 4ms/step - loss: 21.9970 - val_loss: 21.8107\n",
            "Epoch 30/50\n",
            "104/104 [==============================] - 0s 4ms/step - loss: 22.0041 - val_loss: 21.7601\n",
            "Epoch 31/50\n",
            "104/104 [==============================] - 0s 4ms/step - loss: 21.9844 - val_loss: 21.7652\n",
            "Epoch 32/50\n",
            "104/104 [==============================] - 0s 4ms/step - loss: 21.9833 - val_loss: 21.7957\n",
            "Epoch 33/50\n",
            "104/104 [==============================] - 0s 5ms/step - loss: 21.9959 - val_loss: 21.7581\n",
            "Epoch 34/50\n",
            "104/104 [==============================] - 0s 4ms/step - loss: 21.9917 - val_loss: 21.7763\n",
            "Epoch 35/50\n",
            "104/104 [==============================] - 0s 5ms/step - loss: 21.9649 - val_loss: 21.8396\n",
            "Epoch 36/50\n",
            "104/104 [==============================] - 1s 6ms/step - loss: 21.9694 - val_loss: 21.8749\n",
            "Epoch 37/50\n",
            "104/104 [==============================] - 1s 5ms/step - loss: 21.9753 - val_loss: 21.7801\n",
            "Epoch 38/50\n",
            "104/104 [==============================] - 1s 6ms/step - loss: 21.9733 - val_loss: 21.8026\n",
            "Epoch 39/50\n",
            "104/104 [==============================] - 1s 6ms/step - loss: 21.9510 - val_loss: 21.8063\n",
            "Epoch 40/50\n",
            "104/104 [==============================] - 1s 6ms/step - loss: 21.9627 - val_loss: 21.7370\n",
            "Epoch 41/50\n",
            " 57/104 [===============>..............] - ETA: 0s - loss: 22.0167"
          ]
        }
      ],
      "source": [
        "# Train the model\n",
        "model.fit(X_train_scaled, y_train, epochs=50, batch_size=512, validation_data=(X_test_scaled, y_test))\n"
      ]
    },
    {
      "cell_type": "code",
      "execution_count": null,
      "metadata": {
        "colab": {
          "base_uri": "https://localhost:8080/",
          "height": 447
        },
        "id": "cT875gWIsKt2",
        "outputId": "bca4da0e-6f49-4ee7-d37b-f3ce1ece89fa"
      },
      "outputs": [
        {
          "data": {
            "text/plain": [
              "<Axes: >"
            ]
          },
          "execution_count": 13,
          "metadata": {},
          "output_type": "execute_result"
        },
        {
          "data": {
            "image/png": "[encoded data removed]",
            "text/plain": [
              "<Figure size 640x480 with 1 Axes>"
            ]
          },
          "metadata": {},
          "output_type": "display_data"
        }
      ],
      "source": [
        "model_losses = pd.DataFrame(model.history.history)\n",
        "model_losses.plot()\n"
      ]
    },
    {
      "cell_type": "code",
      "execution_count": null,
      "metadata": {
        "colab": {
          "base_uri": "https://localhost:8080/"
        },
        "id": "pEyyp4ZWsNpI",
        "outputId": "5752be40-9bc4-401c-ce03-ef7662e76b45"
      },
      "outputs": [
        {
          "name": "stdout",
          "output_type": "stream",
          "text": [
            "713/713 [==============================] - 1s 1ms/step\n"
          ]
        },
        {
          "data": {
            "text/plain": [
              "22.21229958629378"
            ]
          },
          "execution_count": 14,
          "metadata": {},
          "output_type": "execute_result"
        }
      ],
      "source": [
        "# Make predictions\n",
        "predictions = model.predict(X_test_scaled)\n",
        "\n",
        "from sklearn.metrics import mean_absolute_error,mean_squared_error\n",
        "mean_absolute_error(y_test,predictions)\n"
      ]
    },
    {
      "cell_type": "code",
      "execution_count": null,
      "metadata": {
        "id": "TEaulxnXzF9z"
      },
      "outputs": [],
      "source": [
        "model.save('cricket_score_prediction_model.h5')\n"
      ]
    },
    {
      "cell_type": "code",
      "execution_count": null,
      "metadata": {
        "id": "DOWlsKSvsQOV"
      },
      "outputs": [],
      "source": [
        "import ipywidgets as widgets\n",
        "from IPython.display import display, clear_output\n",
        "\n",
        "import warnings\n",
        "warnings.filterwarnings(\"ignore\")\n",
        "\n",
        "venue = widgets.Dropdown(options=df['venue'].unique().tolist(),description='Select Venue:')\n",
        "batting_team = widgets.Dropdown(options =df['bat_team'].unique().tolist(), description='Select Batting Team:')\n",
        "bowling_team = widgets.Dropdown(options=df['bowl_team'].unique().tolist(), description='Select Batting Team:')\n",
        "striker = widgets.Dropdown(options=df['batsman'].unique().tolist(), description='Select Striker:')\n",
        "bowler = widgets.Dropdown(options=df['bowler'].unique().tolist(), description='Select Bowler:')\n",
        "\n",
        "predict_button = widgets.Button(description=\"Predict Score\")\n",
        "\n",
        "def predict_score(b):\n",
        "\twith output:\n",
        "\t\tclear_output() # Clear the previous output\n",
        "\n",
        "\n",
        "\t\t# Decode the encoded values back to their original values\n",
        "\t\tdecoded_venue = venue_encoder.transform([venue.value])\n",
        "\t\tdecoded_batting_team = batting_team_encoder.transform([batting_team.value])\n",
        "\t\tdecoded_bowling_team = bowling_team_encoder.transform([bowling_team.value])\n",
        "\t\tdecoded_striker = striker_encoder.transform([striker.value])\n",
        "\t\tdecoded_bowler = bowler_encoder.transform([bowler.value])\n",
        "\n",
        "\n",
        "\t\tinput = np.array([decoded_venue, decoded_batting_team, decoded_bowling_team,decoded_striker, decoded_bowler])\n",
        "\t\tinput = input.reshape(1,5)\n",
        "\t\tinput = scaler.transform(input)\n",
        "\t\t#print(input)\n",
        "\t\tpredicted_score = model.predict(input)\n",
        "\t\tpredicted_score = int(predicted_score[0,0])\n",
        "\n",
        "\t\tprint(predicted_score)\n"
      ]
    },
    {
      "cell_type": "code",
      "execution_count": null,
      "metadata": {
        "id": "365RQwKVsSWn"
      },
      "outputs": [],
      "source": [
        "predict_button.on_click(predict_score)\n",
        "output = widgets.Output()\n",
        "display(venue, batting_team, bowling_team, striker, bowler, predict_button, output)\n"
      ]
    }
  ],
  "metadata": {
    "accelerator": "GPU",
    "colab": {
      "gpuType": "T4",
      "provenance": []
    },
    "kernelspec": {
      "display_name": "Python 3",
      "name": "python3"
    },
    "language_info": {
      "name": "python"
    }
  },
  "nbformat": 4,
  "nbformat_minor": 0
}